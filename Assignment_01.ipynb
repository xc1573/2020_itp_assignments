{
 "cells": [
  {
   "cell_type": "markdown",
   "metadata": {},
   "source": [
    "# Introduction to Programming (Online 2020)\n",
    "## Assignment 1"
   ],
   "execution_count": null,
   "outputs": []
  },
  {
   "cell_type": "markdown",
   "metadata": {},
   "source": [
    "## Question 1\n",
    "### Basic mathematical operations\n",
    "\n",
    "Basic mathematical operations between two integers:\n",
    "\n",
    "Using 16 and 5 as the values, perform the following operations:\n",
    "+ addition\n",
    "+ subtraction\n",
    "+ multiplication\n",
    "+ division\n",
    "+ power (16^5)\n",
    "\n",
    "You should output the type of the result as well as the result. eg:\n",
    "+ operation: 16 + 5 \n",
    "+ output: < class 'int'> 21"
   ],
   "execution_count": null,
   "outputs": []
  },
  {
   "cell_type": "code",
   "execution_count": 1,
   "metadata": {},
   "outputs": [
    {
     "output_type": "stream",
     "name": "stdout",
     "text": "<class 'int'> 21\n<class 'int'> 11\n<class 'int'> 80\n<class 'float'> 3.2\n<class 'int'> 1048576\n"
    }
   ],
   "source": [
    "# CODE FOR 1\n",
    "print(type(16+5),16+5)\n",
    "print(type(16-5),16-5)\n",
    "print(type(16*5),16*5)\n",
    "print(type(16/5),16/5)\n",
    "print(type(16**5),16**5)"
   ]
  },
  {
   "cell_type": "markdown",
   "metadata": {},
   "source": [
    "### A note on `assert` statements\n",
    "\n",
    "Assert statements are used as checks that run at some point during the execution of a program. As an example, this could be after some data is downloaded from the internet, and you need to make sure that it was downloaded correctly before processing it.\n",
    "\n",
    "The structure of an assert statements is as follows:\n",
    "    + assert <conditional_expression>, <error_message_to_print>\n",
    "\n",
    "When the condition returns `True`, this line will not do anything, and the program will continue to execute. When the expression returns `False` though, the assert statement will raise an `AssertionError`.\n",
    "\n",
    "In the assignments, assert statements are used to define test cases that check whether your solution is correct or not.\n",
    "\n",
    "For example, in Question 2 of this assignment, the first assert statement checks whether the `result_addition` variable is equal to the sum of the two numbers that were input.\n",
    "If `results_addition` does not equal `number1 + number2` then an `AssertionError` will be thrown with the message showing the values for result_addition, number1, and number2 in expression form.\n",
    "\n",
    "If your code passes all the checks, then the final print statment will be displayed."
   ],
   "execution_count": null,
   "outputs": []
  },
  {
   "cell_type": "code",
   "execution_count": 4,
   "metadata": {},
   "outputs": [
    {
     "output_type": "error",
     "ename": "AssertionError",
     "evalue": "",
     "traceback": [
      "\u001b[0;31m---------------------------------------------------------------------------\u001b[0m",
      "\u001b[0;31mAssertionError\u001b[0m                            Traceback (most recent call last)",
      "\u001b[0;32m<ipython-input-4-a871fdc9ebee>\u001b[0m in \u001b[0;36m<module>\u001b[0;34m\u001b[0m\n\u001b[0;32m----> 1\u001b[0;31m \u001b[0;32massert\u001b[0m \u001b[0;32mFalse\u001b[0m\u001b[0;34m\u001b[0m\u001b[0;34m\u001b[0m\u001b[0m\n\u001b[0m",
      "\u001b[0;31mAssertionError\u001b[0m: "
     ]
    }
   ],
   "source": [
    "assert False"
   ]
  },
  {
   "cell_type": "markdown",
   "metadata": {},
   "source": [
    "## Question 2\n",
    "### Variables\n",
    "\n",
    "Perform the same operations as in Question 1, except use the input() operation to get two integers. In addition store the result of each operation in a variable called result_< operation > eg result_addition for addition (Assume that the user will always enter valid input)."
   ],
   "execution_count": null,
   "outputs": []
  },
  {
   "cell_type": "code",
   "execution_count": 5,
   "metadata": {},
   "outputs": [
    {
     "output_type": "error",
     "ename": "SyntaxError",
     "evalue": "invalid syntax (<ipython-input-5-098604e4d7aa>, line 8)",
     "traceback": [
      "\u001b[0;36m  File \u001b[0;32m\"<ipython-input-5-098604e4d7aa>\"\u001b[0;36m, line \u001b[0;32m8\u001b[0m\n\u001b[0;31m    number1 = #ADD CODE TO GET FIRST INT\u001b[0m\n\u001b[0m                                        ^\u001b[0m\n\u001b[0;31mSyntaxError\u001b[0m\u001b[0;31m:\u001b[0m invalid syntax\n"
     ]
    }
   ],
   "source": [
    "number1=int(input())\n",
    "number2=int(input())\n",
    "result_addition=number1+number2\n",
    "result_substraction=number1-number2\n",
    "result_division=number1/number2\n",
    "result_power=number1**number2\n",
    "\n",
    "number1 = #ADD CODE TO GET FIRST INT\n",
    "number2 = #ADD CODE TO GET SECOND INT\n",
    "\n",
    "# Replace '0' with the expression for each operation\n",
    "# ADDITION\n",
    "result_addition = 0\n",
    "# SUBTRACTION\n",
    "result_subtraction = 0\n",
    "# MULTIPLICATION\n",
    "result_multiplication = 0\n",
    "# DIVISION\n",
    "result_division = 0\n",
    "# POWER\n",
    "result_power = 0\n",
    "\n",
    "# THIS IS TO CHECK YOUR CODE, DON'T CHANGE THIS\n",
    "# IF YOUR CODE IS CORRECT YOU WILL NOT GET ANY ERRORS\n",
    "assert result_addition == number1 + number2, \"{} != {} + {}\".format(result_addition, number1, number2)\n",
    "assert result_subtraction == number1 - number2, \"{} != {} - {}\".format(result_addition, number1, number2)\n",
    "assert result_multiplication == number1 * number2, \"{} != {} * {}\".format(result_addition, number1, number2)\n",
    "assert result_division == number1 / number2, \"{} != {} / {}\".format(result_addition, number1, number2)\n",
    "assert result_power == number1 ** number2, \"{} != {} ** {}\".format(result_addition, number1, number2)\n",
    "\n",
    "print('All assert checks have passed')"
   ]
  },
  {
   "cell_type": "code",
   "execution_count": 6,
   "metadata": {},
   "outputs": [],
   "source": [
    "number1=int(input())\n",
    "number2=int(input())\n",
    "result_addition=number1+number2\n",
    "result_substraction=number1-number2\n",
    "result_division=number1/number2\n",
    "result_power=number1**number2\n",
    ""
   ]
  },
  {
   "cell_type": "markdown",
   "metadata": {},
   "source": [
    "## Question 3\n",
    "### Conditionals\n",
    "\n",
    "#### 3.1)\n",
    "Write code to get an integer from the user (assume the user will always enter a integer) as input. \n",
    "\n",
    "If the integer is less than **14** print \"**The number is less than 14**\" and if the number is greater than or equal to 14 print \"**The number is 14 or larger**\"."
   ],
   "execution_count": null,
   "outputs": []
  },
  {
   "cell_type": "code",
   "execution_count": 8,
   "metadata": {
    "collapsed": true,
    "jupyter": {
     "outputs_hidden": true
    }
   },
   "outputs": [
    {
     "output_type": "stream",
     "name": "stdout",
     "text": "the number is less than 14\n"
    }
   ],
   "source": [
    "# CODE FOR 3.1\n",
    "int_1=int(input())\n",
    "if int_1<14:\n",
    "    print(\"the number is less than 14\")\n",
    "else:\n",
    "    print(\"The number is 14 or larger\")"
   ]
  },
  {
   "cell_type": "markdown",
   "metadata": {},
   "source": [
    "#### 3.2)\n",
    "Extend the code from 3.1 to also check whether the number is **a multiple of 11**. There are four options that can be output by your code now:\n",
    "+ The number is **a multiple of 11** and is **less than 14**.\n",
    "+ The number is **a multiple of 11** and is **greater than or equal to 14**.\n",
    "+ The number is **not a multiple of 11** and is **less than 14**.\n",
    "+ The number is **not a multiple of 11** and is **greater than or equal to 14**."
   ],
   "execution_count": null,
   "outputs": []
  },
  {
   "cell_type": "code",
   "execution_count": 23,
   "metadata": {},
   "outputs": [
    {
     "output_type": "error",
     "ename": "TypeError",
     "evalue": "not all arguments converted during string formatting",
     "traceback": [
      "\u001b[0;31m---------------------------------------------------------------------------\u001b[0m",
      "\u001b[0;31mTypeError\u001b[0m                                 Traceback (most recent call last)",
      "\u001b[0;32m<ipython-input-23-984f8e2836ad>\u001b[0m in \u001b[0;36m<module>\u001b[0;34m\u001b[0m\n\u001b[1;32m      1\u001b[0m \u001b[0;31m# CODE FOR 3.2\u001b[0m\u001b[0;34m\u001b[0m\u001b[0;34m\u001b[0m\u001b[0;34m\u001b[0m\u001b[0m\n\u001b[1;32m      2\u001b[0m \u001b[0mint_2\u001b[0m\u001b[0;34m=\u001b[0m\u001b[0minput\u001b[0m\u001b[0;34m(\u001b[0m\u001b[0;34m)\u001b[0m\u001b[0;34m\u001b[0m\u001b[0;34m\u001b[0m\u001b[0m\n\u001b[0;32m----> 3\u001b[0;31m \u001b[0;32mif\u001b[0m \u001b[0mint_2\u001b[0m\u001b[0;34m%\u001b[0m\u001b[0;36m11\u001b[0m\u001b[0;34m==\u001b[0m\u001b[0;36m0\u001b[0m\u001b[0;34m:\u001b[0m\u001b[0;34m\u001b[0m\u001b[0;34m\u001b[0m\u001b[0m\n\u001b[0m\u001b[1;32m      4\u001b[0m      \u001b[0;32mif\u001b[0m \u001b[0mint_2\u001b[0m\u001b[0;34m<\u001b[0m\u001b[0;36m14\u001b[0m\u001b[0;34m:\u001b[0m\u001b[0;34m\u001b[0m\u001b[0;34m\u001b[0m\u001b[0m\n\u001b[1;32m      5\u001b[0m          \u001b[0mprint\u001b[0m\u001b[0;34m(\u001b[0m\u001b[0;34m\"The number is a multiple of 11 and is less than 14\"\u001b[0m\u001b[0;34m)\u001b[0m\u001b[0;34m\u001b[0m\u001b[0;34m\u001b[0m\u001b[0m\n",
      "\u001b[0;31mTypeError\u001b[0m: not all arguments converted during string formatting"
     ]
    }
   ],
   "source": [
    "# CODE FOR 3.2\n",
    "int_2=int(input())\n",
    "if int_2%11==0:\n",
    "     if int_2<14:\n",
    "         print(\"The number is a multiple of 11 and is less than 14\")\n",
    "     else:\n",
    "         print(\"The number is a multiple of 11 and is greater than or equal to 14.\")\n",
    "else:\n",
    "    if int_2<14:\n",
    "        print(\"The number is not a multiple of 11 and is less than 14.\")\n",
    "    else:\n",
    "        print(\"The number is not a multiple of 11 and is greater than or equal to 14.\")\n"
   ]
  },
  {
   "cell_type": "markdown",
   "metadata": {},
   "source": [
    "#### 3.3)\n",
    "Extend the code from 3.2 to check whether the user has input an integer. If the number is not an integer print \"Error, the value which was input is not an integer\".\n",
    "\n",
    "There are now 5 possible output messages:\n",
    "+ Error, the value which was input is not an integer.\n",
    "+ The number is **a multiple of 11** and is **less than 14**.\n",
    "+ The number is **a multiple of 11** and is **greater than or equal to 14**.\n",
    "+ The number is **not a multiple of 11** and is **less than 14**.\n",
    "+ The number is **not a multiple of 11** and is **greater than or equal to 14**."
   ],
   "execution_count": null,
   "outputs": []
  },
  {
   "cell_type": "code",
   "execution_count": 37,
   "metadata": {},
   "outputs": [
    {
     "output_type": "error",
     "ename": "TypeError",
     "evalue": "not all arguments converted during string formatting",
     "traceback": [
      "\u001b[0;31m---------------------------------------------------------------------------\u001b[0m",
      "\u001b[0;31mTypeError\u001b[0m                                 Traceback (most recent call last)",
      "\u001b[0;32m<ipython-input-37-43e29b06b177>\u001b[0m in \u001b[0;36m<module>\u001b[0;34m\u001b[0m\n\u001b[1;32m      4\u001b[0m     \u001b[0mprint\u001b[0m\u001b[0;34m(\u001b[0m\u001b[0;34m\"Error, the value which was input is not an integer.\"\u001b[0m\u001b[0;34m)\u001b[0m\u001b[0;34m\u001b[0m\u001b[0;34m\u001b[0m\u001b[0m\n\u001b[1;32m      5\u001b[0m \u001b[0;32melse\u001b[0m\u001b[0;34m:\u001b[0m\u001b[0;34m\u001b[0m\u001b[0;34m\u001b[0m\u001b[0m\n\u001b[0;32m----> 6\u001b[0;31m      \u001b[0;32mif\u001b[0m \u001b[0mint_2\u001b[0m\u001b[0;34m%\u001b[0m\u001b[0;36m11\u001b[0m\u001b[0;34m==\u001b[0m\u001b[0;36m0\u001b[0m\u001b[0;34m:\u001b[0m\u001b[0;34m\u001b[0m\u001b[0;34m\u001b[0m\u001b[0m\n\u001b[0m\u001b[1;32m      7\u001b[0m          \u001b[0;32mif\u001b[0m \u001b[0mint_2\u001b[0m\u001b[0;34m<\u001b[0m\u001b[0;36m14\u001b[0m\u001b[0;34m:\u001b[0m\u001b[0;34m\u001b[0m\u001b[0;34m\u001b[0m\u001b[0m\n\u001b[1;32m      8\u001b[0m              \u001b[0mprint\u001b[0m\u001b[0;34m(\u001b[0m\u001b[0;34m\"The number is a multiple of 11 and is less than 14.\"\u001b[0m\u001b[0;34m)\u001b[0m\u001b[0;34m\u001b[0m\u001b[0;34m\u001b[0m\u001b[0m\n",
      "\u001b[0;31mTypeError\u001b[0m: not all arguments converted during string formatting"
     ]
    }
   ],
   "source": [
    "# CODE FOR 3.3\n",
    "int_2=input()\n",
    "if type(int_2)!=int:\n",
    "    print(\"Error, the value which was input is not an integer.\")\n",
    "else:\n",
    "     if int_2%11==0:\n",
    "         if int_2<14:\n",
    "             print(\"The number is a multiple of 11 and is less than 14.\")\n",
    "         else:\n",
    "             print(\"The number is a multiple of 11 and is greater than or equal to 14.\")\n",
    "     else:\n",
    "        if int_2<14:\n",
    "            print(\"The number is not a multiple of 11 and is less than 14.\")\n",
    "        else:\n",
    "            print(\"The number is not a multiple of 11 and is greater than or equal to 14.\")"
   ]
  },
  {
   "cell_type": "markdown",
   "metadata": {},
   "source": [
    "## Question 4\n",
    "### Looping\n",
    "\n",
    "For each of shapes print using the following characters:\n",
    "+ Start by using only the '*' character\n",
    "+ Use the row index as the character\n",
    "+ Use the column index as the character\n",
    "+ Use the cummulative index as the character\n",
    "\n",
    "**For all of these questions assume that the user will always enter integers and that (1 <= input <= 9)**\n",
    "\n",
    "### Example (printing a square of size 'n'):\n",
    "```\n",
    "n=4\n",
    "* * * *\n",
    "* * * *\n",
    "* * * *\n",
    "* * * *\n",
    "```"
   ],
   "execution_count": null,
   "outputs": []
  },
  {
   "cell_type": "code",
   "execution_count": null,
   "metadata": {},
   "outputs": [],
   "source": [
    "n = int(input(\"Enter n\"))\n",
    "\n",
    "# USING '*' AS THE CHARACTER\n",
    "print('* Character\\n---------')\n",
    "for j in range(n):\n",
    "    line = ''\n",
    "    for i in range(n):\n",
    "        line += '{:>2}'.format('*')\n",
    "    print(line)\n",
    "    \n",
    "# USING THE ROW INDEX AS THE CHARACTER\n",
    "print('Row Index\\n---------')\n",
    "for j in range(n):\n",
    "    line = ''\n",
    "    for i in range(n):\n",
    "        line += '{:>3}'.format(j)\n",
    "    print(line)\n",
    "    \n",
    "# USING THE COL INDEX AS THE CHARACTER\n",
    "print('Column Index\\n---------')\n",
    "for j in range(n):\n",
    "    line = ''\n",
    "    for i in range(n):\n",
    "        line += '{:>3}'.format(i)\n",
    "    print(line)\n",
    "\n",
    "# USING THE CUMULATIVE INDEX AS THE CHARACTER\n",
    "print('Cumulative Index\\n---------')\n",
    "for j in range(n):\n",
    "    line = ''\n",
    "    for i in range(n):\n",
    "        line += '{:>3}'.format(j * n + i)\n",
    "    print(line)"
   ]
  },
  {
   "cell_type": "markdown",
   "metadata": {},
   "source": [
    "#### 4.1)\n",
    "Print a rectangle with height **n** and width **m**\n",
    "\n",
    "**eg:**: n = 3, m = 2\n",
    "```\n",
    " * Character\n",
    "------------\n",
    "  * *\n",
    "  * *\n",
    "  * *\n",
    "  \n",
    "Row Index\n",
    "---------\n",
    "  0  0\n",
    "  1  1\n",
    "  2  2\n",
    "Column Index\n",
    "------------\n",
    "  0  1\n",
    "  0  1\n",
    "  0  1\n",
    "Cumulative Index\n",
    "----------------\n",
    "  0  1\n",
    "  2  3\n",
    "  4  5\n",
    "```"
   ],
   "execution_count": null,
   "outputs": []
  },
  {
   "cell_type": "code",
   "execution_count": null,
   "metadata": {
    "collapsed": true,
    "jupyter": {
     "outputs_hidden": true
    }
   },
   "outputs": [],
   "source": [
    "n = int(input(\"Enter n\"))\n",
    "m = int(input(\"Enter m\"))"
   ]
  },
  {
   "cell_type": "markdown",
   "metadata": {},
   "source": [
    "#### 4.2)\n",
    "Print an isosceles triangle with height and width equal to **n** and the right angled corner on the bottom left.\n",
    "\n",
    "Tip:\n",
    "\n",
    "For the cumulative index you can use the formula for triangle number to calculate the offset of the first column of each row.\n",
    "\n",
    "https://www.mathsisfun.com/algebra/triangular-numbers.html\n",
    "\n",
    "**eg:**: n = 5\n",
    "```\n",
    "\n",
    "* Character\n",
    "---------\n",
    "  *\n",
    "  * *\n",
    "  * * * \n",
    "  * * * *\n",
    "  * * * * *\n",
    "Row Index\n",
    "---------\n",
    "  0\n",
    "  1  1\n",
    "  2  2  2\n",
    "  3  3  3  3\n",
    "  4  4  4  4  4\n",
    "Column Index\n",
    "---------\n",
    "  0\n",
    "  0  1\n",
    "  0  1  2\n",
    "  0  1  2  3\n",
    "  0  1  2  3  4\n",
    "Cumulative Index\n",
    "---------\n",
    "  0\n",
    "  1  2\n",
    "  3  4  5\n",
    "  6  7  8  9 \n",
    " 10 11 12 13 14\n",
    "\n",
    "```"
   ],
   "execution_count": null,
   "outputs": []
  },
  {
   "cell_type": "code",
   "execution_count": null,
   "metadata": {
    "collapsed": true,
    "jupyter": {
     "outputs_hidden": true
    }
   },
   "outputs": [],
   "source": [
    "n = int(input(\"Enter n\"))"
   ]
  },
  {
   "cell_type": "markdown",
   "metadata": {},
   "source": [
    "#### 4.3)\n",
    "Print an isosceles triangle with height and width equal to **n** and the right angled corner on the upper left.\n",
    "\n",
    "Tip:\n",
    "\n",
    "For the cumulative index you can use triangle numbers, though the forumula used in the previous question will need to be modified slightly. Alternatively, an extra variable can be used to keep track of the index.\n",
    "\n",
    "**eg:**: n = 5\n",
    "```\n",
    "* Character\n",
    "---------\n",
    "  * * * * *\n",
    "  * * * *\n",
    "  * * *\n",
    "  * *\n",
    "  *\n",
    "Row Index\n",
    "---------\n",
    "  0  0  0  0  0\n",
    "  1  1  1  1\n",
    "  2  2  2\n",
    "  3  3\n",
    "  4\n",
    "Column Index\n",
    "---------\n",
    "  0  1  2  3  4\n",
    "  0  1  2  3\n",
    "  0  1  2\n",
    "  0  1\n",
    "  0\n",
    "Cumulative Index\n",
    "---------\n",
    "  0  1  2  3  4\n",
    "  5  6  7  8\n",
    "  9 10 11\n",
    " 12 13\n",
    " 14\n",
    "```"
   ],
   "execution_count": null,
   "outputs": []
  },
  {
   "cell_type": "code",
   "execution_count": null,
   "metadata": {},
   "outputs": [],
   "source": [
    "n = int(input(\"Enter n\"))"
   ]
  },
  {
   "cell_type": "markdown",
   "metadata": {},
   "source": [
    "## Question 5\n",
    "### Finding Prime Numbers\n",
    "\n",
    "Write code which finds all of the prime numbers between 2 and 100 and store them in a list.\n",
    "Then print the list of prime numbers.\n",
    "\n",
    "A prime number is a number which is only divisible by itself and 1.\n",
    "\n",
    "Some starting code has been provided."
   ],
   "execution_count": null,
   "outputs": []
  },
  {
   "cell_type": "code",
   "execution_count": null,
   "metadata": {},
   "outputs": [],
   "source": [
    "results = []\n",
    "for i in range(2, 101):\n",
    "    prime = True\n",
    "    for j in range(2, i//2+1):\n",
    "        if #COMPLETE_THIS_EXPRESSION#:\n",
    "            prime = False\n",
    "    #ADD_THE_REQUIRED_STATEMENTS#\n",
    "\n",
    "print(results)\n",
    "# expected output: [2, 3, 5, 7, 11, 13, 17, 19, 23, 29, 31, 37, 41, 43, 47, 53, 59, 61, 67, 71, 73, 79, 83, 89, 97]"
   ]
  },
  {
   "cell_type": "markdown",
   "metadata": {},
   "source": [
    "## Question 6\n",
    "### git and github\n",
    "\n",
    "Some information about git can be found here https://guides.github.com/introduction/git-handbook/ .\n",
    "\n",
    "\n",
    "1. Create a directory called '2020_itp_assignments'. \n",
    "    + **Do not** make this directory in the itp_2020 directory which contains the lecture material\n",
    "    + This is because a directory can only contain a single .git repository\n",
    "2. Add this Jupyter notebook to the directory you just created. (copy and paste it)\n",
    "3. Initialize this directory as a git repository\n",
    "4. Git add your assignment notebook to the repository\n",
    "    + This will move the file to the staging area\n",
    "5. Commit your assignment\n",
    "    + This saves a snapshot of the file you added\n",
    "6. On github.com create a new repository called 2020_itp_assigments\n",
    "7. Make this repo public when creating it.\n",
    "8. Link the github repository with your local repository\n",
    "    + Follow the instructions shown when you create the repo on GitHub\n",
    "9. Push your assignment / changes upstream to github\n",
    "10. Go to GitHub and make sure that the file you added is now online.\n"
   ],
   "execution_count": null,
   "outputs": []
  }
 ],
 "metadata": {
  "kernelspec": {
   "display_name": "Python 3",
   "language": "python",
   "name": "python3"
  },
  "language_info": {
   "codemirror_mode": {
    "name": "ipython",
    "version": 3
   },
   "file_extension": ".py",
   "mimetype": "text/x-python",
   "name": "python",
   "nbconvert_exporter": "python",
   "pygments_lexer": "ipython3",
   "version": "3.7.6-final"
  }
 },
 "nbformat": 4,
 "nbformat_minor": 4
}